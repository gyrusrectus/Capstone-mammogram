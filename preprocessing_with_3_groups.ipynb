{
  "nbformat": 4,
  "nbformat_minor": 0,
  "metadata": {
    "colab": {
      "name": "preprocessing with 3 groups.ipynb",
      "provenance": [],
      "collapsed_sections": [],
      "mount_file_id": "1KcfYsPVMQmYuyY-a3dnhuoES2xPMtEOK",
      "authorship_tag": "ABX9TyPHUprCZha+DzSoCk95g/4M",
      "include_colab_link": true
    },
    "kernelspec": {
      "name": "python3",
      "display_name": "Python 3"
    },
    "language_info": {
      "name": "python"
    }
  },
  "cells": [
    {
      "cell_type": "markdown",
      "metadata": {
        "id": "view-in-github",
        "colab_type": "text"
      },
      "source": [
        "<a href=\"https://colab.research.google.com/github/gyrusrectus/Capstone-mammogram/blob/main/preprocessing_with_3_groups.ipynb\" target=\"_parent\"><img src=\"https://colab.research.google.com/assets/colab-badge.svg\" alt=\"Open In Colab\"/></a>"
      ]
    },
    {
      "cell_type": "code",
      "metadata": {
        "id": "dT8A_O-nPhLp"
      },
      "source": [
        "import pandas as pd\n",
        "import os as os"
      ],
      "execution_count": 79,
      "outputs": []
    },
    {
      "cell_type": "code",
      "metadata": {
        "id": "aZ2EHGhBP1vJ"
      },
      "source": [
        "# reading the csv file . This file has the three classes benign, malignant and NA (unknown)\n",
        "orig_csv_path= \"/content/drive/MyDrive/Capstone/CSV files/Final_JPEG_data.csv\" #specify csv file\n",
        "main_csv= pd.read_csv(orig_csv_path) \n"
      ],
      "execution_count": 81,
      "outputs": []
    },
    {
      "cell_type": "code",
      "metadata": {
        "id": "TCT23NRzSPHo"
      },
      "source": [
        "dict_csv={}\n",
        "def test_val_train (data_csv,dir): # specify data_csv file and directory\n",
        "    data_csv.dropna(subset=[\"classification\"],inplace=True) # drop NA in classification\n",
        "    calc_csv= data_csv[data_csv[\"abnormality\"]==\"calcification\"]\n",
        "    mass_csv=data_csv[data_csv[\"abnormality\"]==\"mass\"]\n",
        "    mass_calc_csv= data_csv[data_csv[\"abnormality\"]==\"both\"]\n",
        "\n",
        "    dict_csv= {\"calc\":calc_csv,\n",
        "             \"mass\":mass_csv,\n",
        "              \"both\": mass_calc_csv}\n",
        "    for key,value in dict_csv.items():\n",
        "        train = value.sample(frac=0.8)\n",
        "        test=value.drop(train.index)\n",
        "        val= train.sample(frac=0.2)\n",
        "        train= train.drop(val.index)\n",
        "        os.makedirs(os.path.join(dir,key),exist_ok= True)\n",
        "        train.to_csv(os.path.join(dir,key,\"train.csv\"))\n",
        "        val.to_csv(os.path.join(dir,key,\"val.csv\"))\n",
        "        test.to_csv(os.path.join(dir,key,\"test.csv\"))\n",
        "\n",
        "        print (key)\n",
        "        print (f\"no of train examples in {key} = {len(train)}\")\n",
        "        print (f\"no of val examples in {key} = {len(val)}\")\n",
        "        print (f\"no of test examples in {key} = {len(test)}\")\n",
        "        print (f\"total no = {len(train)+len(test)+len(val)}\")\n",
        "\n",
        "  "
      ],
      "execution_count": 82,
      "outputs": []
    },
    {
      "cell_type": "code",
      "metadata": {
        "colab": {
          "base_uri": "https://localhost:8080/"
        },
        "id": "m57qpOTAS4Mv",
        "outputId": "ceb217a7-7c51-4e86-8404-1324e56cdaa0"
      },
      "source": [
        "dest_folder=(\"/content/drive/MyDrive/Capstone/CSV files\") # change destination folder\n",
        "test_val_train(main_csv,dest_folder)\n"
      ],
      "execution_count": 84,
      "outputs": [
        {
          "output_type": "stream",
          "text": [
            "calc\n",
            "no of train examples in calc = 335\n",
            "no of val examples in calc = 84\n",
            "no of test examples in calc = 105\n",
            "total no = 524\n",
            "mass\n",
            "no of train examples in mass = 1470\n",
            "no of val examples in mass = 368\n",
            "no of test examples in mass = 460\n",
            "total no = 2298\n",
            "both\n",
            "no of train examples in both = 590\n",
            "no of val examples in both = 148\n",
            "no of test examples in both = 184\n",
            "total no = 922\n"
          ],
          "name": "stdout"
        }
      ]
    }
  ]
}