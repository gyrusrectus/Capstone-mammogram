{
  "nbformat": 4,
  "nbformat_minor": 0,
  "metadata": {
    "colab": {
      "name": "Image _benign_normal.ipynb",
      "provenance": [],
      "mount_file_id": "1OhSt0Urnc8L8grLzJLfzyrh9aVN9H0FJ",
      "authorship_tag": "ABX9TyO5oKc9fhDw/yVDWpPvR2rg",
      "include_colab_link": true
    },
    "kernelspec": {
      "name": "python3",
      "display_name": "Python 3"
    },
    "language_info": {
      "name": "python"
    }
  },
  "cells": [
    {
      "cell_type": "markdown",
      "metadata": {
        "id": "view-in-github",
        "colab_type": "text"
      },
      "source": [
        "<a href=\"https://colab.research.google.com/github/gyrusrectus/Capstone-mammogram/blob/main/Image__benign_normal.ipynb\" target=\"_parent\"><img src=\"https://colab.research.google.com/assets/colab-badge.svg\" alt=\"Open In Colab\"/></a>"
      ]
    },
    {
      "cell_type": "code",
      "metadata": {
        "id": "xtScazT5Sx6f"
      },
      "source": [
        "import pandas as pd\n",
        "import PIL as image\n",
        "from skimage import io\n",
        "from skimage.transform import resize\n",
        "import os"
      ],
      "execution_count": null,
      "outputs": []
    },
    {
      "cell_type": "code",
      "metadata": {
        "id": "Ix_TELQVTJmx"
      },
      "source": [
        "main_csv=pd.read_csv(\"/content/drive/MyDrive/Capstone/CSV files/Final_JPEG_data.csv\")"
      ],
      "execution_count": null,
      "outputs": []
    },
    {
      "cell_type": "code",
      "metadata": {
        "id": "GGGciIZ7Td-_"
      },
      "source": [
        "main_csv['classification'].fillna(\"Normal\",inplace=True)"
      ],
      "execution_count": null,
      "outputs": []
    },
    {
      "cell_type": "code",
      "metadata": {
        "colab": {
          "base_uri": "https://localhost:8080/"
        },
        "id": "lN7y6wH6UDwr",
        "outputId": "119d7562-ce2f-4f87-9e46-a7a586dd7164"
      },
      "source": [
        "main_csv[\"classification\"].unique() # check the classes of the classified "
      ],
      "execution_count": null,
      "outputs": [
        {
          "output_type": "execute_result",
          "data": {
            "text/plain": [
              "array(['Benign', 'Malignant', 'Normal'], dtype=object)"
            ]
          },
          "metadata": {
            "tags": []
          },
          "execution_count": 13
        }
      ]
    },
    {
      "cell_type": "code",
      "metadata": {
        "id": "UM50kDVwUI5b"
      },
      "source": [
        "main_csv.to_csv(\"/content/drive/MyDrive/Capstone/CSV files/Image_class_mal_ben_normal.csv\")"
      ],
      "execution_count": null,
      "outputs": []
    },
    {
      "cell_type": "code",
      "metadata": {
        "id": "00IYdlpmWY1q"
      },
      "source": [
        ""
      ],
      "execution_count": null,
      "outputs": []
    }
  ]
}